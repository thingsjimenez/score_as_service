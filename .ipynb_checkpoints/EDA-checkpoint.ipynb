{
 "cells": [
  {
   "cell_type": "markdown",
   "metadata": {},
   "source": [
    "### Librerias"
   ]
  },
  {
   "cell_type": "code",
   "execution_count": 108,
   "metadata": {},
   "outputs": [],
   "source": [
    "import pandas as pd\n",
    "from sklearn import preprocessing"
   ]
  },
  {
   "cell_type": "markdown",
   "metadata": {},
   "source": [
    "### Cargar datos en bruto"
   ]
  },
  {
   "cell_type": "code",
   "execution_count": 4,
   "metadata": {},
   "outputs": [],
   "source": [
    "aprobados = pd.read_csv('data/aprobados.csv')\n",
    "negados = pd.read_csv('data/negados.csv')"
   ]
  },
  {
   "cell_type": "markdown",
   "metadata": {},
   "source": [
    "### Eliminar columnas que no son necesarias"
   ]
  },
  {
   "cell_type": "code",
   "execution_count": 118,
   "metadata": {},
   "outputs": [],
   "source": [
    "eliminar = ['Unnamed: 0', 'Unnamed: 0.1', 'Total activos', 'ConoCliente', 'Fecha_corte', 'Ocupacion', 'Agencia', 'Cargo', 'Ciiu', 'Estado', 'EndeuIndi', 'Califica', 'FecIngEmp', 'FecUltAct', 'CuidadRes']"
   ]
  },
  {
   "cell_type": "code",
   "execution_count": 119,
   "metadata": {},
   "outputs": [],
   "source": [
    "def eliminar_columnas(aprobados, negados, eliminar):\n",
    "    aprob = aprobados.copy()\n",
    "    neg = negados.copy()\n",
    "    for ii in eliminar:\n",
    "        aprob.pop(ii)\n",
    "        neg.pop(ii)\n",
    "    return aprob, neg"
   ]
  },
  {
   "cell_type": "code",
   "execution_count": 120,
   "metadata": {},
   "outputs": [],
   "source": [
    "aprob, neg = eliminar_columnas(aprobados, negados, eliminar)"
   ]
  },
  {
   "cell_type": "code",
   "execution_count": 121,
   "metadata": {},
   "outputs": [
    {
     "data": {
      "text/html": [
       "<div>\n",
       "<style scoped>\n",
       "    .dataframe tbody tr th:only-of-type {\n",
       "        vertical-align: middle;\n",
       "    }\n",
       "\n",
       "    .dataframe tbody tr th {\n",
       "        vertical-align: top;\n",
       "    }\n",
       "\n",
       "    .dataframe thead th {\n",
       "        text-align: right;\n",
       "    }\n",
       "</style>\n",
       "<table border=\"1\" class=\"dataframe\">\n",
       "  <thead>\n",
       "    <tr style=\"text-align: right;\">\n",
       "      <th></th>\n",
       "      <th>Edad</th>\n",
       "      <th>Sexo</th>\n",
       "      <th>Perscargo</th>\n",
       "      <th>Estrato</th>\n",
       "      <th>Nivel de estudios</th>\n",
       "      <th>Tipo de contrato</th>\n",
       "      <th>Ingresos</th>\n",
       "      <th>Egresos</th>\n",
       "      <th>Tipo de actividad</th>\n",
       "      <th>Tipo de vivienda</th>\n",
       "      <th>...</th>\n",
       "      <th>Destino</th>\n",
       "      <th>Monto</th>\n",
       "      <th>Plazo</th>\n",
       "      <th>Cuota</th>\n",
       "      <th>Garantia</th>\n",
       "      <th>RespPat</th>\n",
       "      <th>FecIngreso</th>\n",
       "      <th>Pagare</th>\n",
       "      <th>MoraCome</th>\n",
       "      <th>Puntaje</th>\n",
       "    </tr>\n",
       "  </thead>\n",
       "  <tbody>\n",
       "    <tr>\n",
       "      <th>0</th>\n",
       "      <td>22</td>\n",
       "      <td>no</td>\n",
       "      <td>0</td>\n",
       "      <td>2</td>\n",
       "      <td>Técnico</td>\n",
       "      <td>Indefinido</td>\n",
       "      <td>949000</td>\n",
       "      <td>226000</td>\n",
       "      <td>Empleado</td>\n",
       "      <td>Familiar</td>\n",
       "      <td>...</td>\n",
       "      <td>Consumo</td>\n",
       "      <td>1600000</td>\n",
       "      <td>24</td>\n",
       "      <td>40930</td>\n",
       "      <td>Libranza Establecida</td>\n",
       "      <td>Sin Patrimonio</td>\n",
       "      <td>2007-03-29</td>\n",
       "      <td>41707.0</td>\n",
       "      <td>Con Experiencia sin Mora</td>\n",
       "      <td>27.0</td>\n",
       "    </tr>\n",
       "    <tr>\n",
       "      <th>1</th>\n",
       "      <td>57</td>\n",
       "      <td>no</td>\n",
       "      <td>0</td>\n",
       "      <td>4</td>\n",
       "      <td>Bachiller</td>\n",
       "      <td>Ninguno</td>\n",
       "      <td>1806000</td>\n",
       "      <td>1319000</td>\n",
       "      <td>Jubilado</td>\n",
       "      <td>Propia</td>\n",
       "      <td>...</td>\n",
       "      <td>Consumo</td>\n",
       "      <td>5000000</td>\n",
       "      <td>36</td>\n",
       "      <td>213.932</td>\n",
       "      <td>Sin Codeudor</td>\n",
       "      <td>Prop.sin Hipoteca</td>\n",
       "      <td>2001-02-26</td>\n",
       "      <td>NaN</td>\n",
       "      <td>Con Experiencia sin Mora</td>\n",
       "      <td>63.0</td>\n",
       "    </tr>\n",
       "    <tr>\n",
       "      <th>2</th>\n",
       "      <td>21</td>\n",
       "      <td>no</td>\n",
       "      <td>0</td>\n",
       "      <td>2</td>\n",
       "      <td>Bachiller</td>\n",
       "      <td>Fijo</td>\n",
       "      <td>816000</td>\n",
       "      <td>157000</td>\n",
       "      <td>Empleado</td>\n",
       "      <td>Familiar</td>\n",
       "      <td>...</td>\n",
       "      <td>Consumo</td>\n",
       "      <td>6200000</td>\n",
       "      <td>36</td>\n",
       "      <td>247167</td>\n",
       "      <td>Con Codeudor(es)</td>\n",
       "      <td>Sin Patrimonio</td>\n",
       "      <td>2006-10-05</td>\n",
       "      <td>41617.0</td>\n",
       "      <td>Con Experiencia sin Mora</td>\n",
       "      <td>NaN</td>\n",
       "    </tr>\n",
       "  </tbody>\n",
       "</table>\n",
       "<p>3 rows × 30 columns</p>\n",
       "</div>"
      ],
      "text/plain": [
       "   Edad Sexo  Perscargo  Estrato Nivel de estudios Tipo de contrato  Ingresos  \\\n",
       "0    22   no          0        2           Técnico       Indefinido    949000   \n",
       "1    57   no          0        4         Bachiller          Ninguno   1806000   \n",
       "2    21   no          0        2         Bachiller             Fijo    816000   \n",
       "\n",
       "   Egresos Tipo de actividad Tipo de vivienda  ...  Destino    Monto  Plazo  \\\n",
       "0   226000          Empleado         Familiar  ...  Consumo  1600000     24   \n",
       "1  1319000          Jubilado           Propia  ...  Consumo  5000000     36   \n",
       "2   157000          Empleado         Familiar  ...  Consumo  6200000     36   \n",
       "\n",
       "     Cuota              Garantia            RespPat  FecIngreso   Pagare  \\\n",
       "0    40930  Libranza Establecida     Sin Patrimonio  2007-03-29  41707.0   \n",
       "1  213.932          Sin Codeudor  Prop.sin Hipoteca  2001-02-26      NaN   \n",
       "2   247167      Con Codeudor(es)     Sin Patrimonio  2006-10-05  41617.0   \n",
       "\n",
       "                   MoraCome  Puntaje  \n",
       "0  Con Experiencia sin Mora     27.0  \n",
       "1  Con Experiencia sin Mora     63.0  \n",
       "2  Con Experiencia sin Mora      NaN  \n",
       "\n",
       "[3 rows x 30 columns]"
      ]
     },
     "execution_count": 121,
     "metadata": {},
     "output_type": "execute_result"
    }
   ],
   "source": [
    "aprob.head(3)"
   ]
  },
  {
   "cell_type": "markdown",
   "metadata": {},
   "source": [
    "### Configurar columnas con variables tipo fecha"
   ]
  },
  {
   "cell_type": "code",
   "execution_count": 86,
   "metadata": {},
   "outputs": [],
   "source": [
    "date_today = '20200815'\n",
    "aprob['FecIngreso'] = pd.to_datetime(aprob['FecIngreso'])\n",
    "neg['FecIngreso'] = pd.to_datetime(neg['FecIngreso'])\n",
    "aprob['NumDias'] = (pd.to_datetime(date_today, format='%Y%m%d', errors='ignore') - pd.to_datetime(aprob['FecIngreso'])).dt.days\n",
    "neg['NumDias'] = (pd.to_datetime(date_today, format='%Y%m%d', errors='ignore') - pd.to_datetime(neg['FecIngreso'])).dt.days"
   ]
  },
  {
   "cell_type": "code",
   "execution_count": 122,
   "metadata": {},
   "outputs": [
    {
     "data": {
      "text/html": [
       "<div>\n",
       "<style scoped>\n",
       "    .dataframe tbody tr th:only-of-type {\n",
       "        vertical-align: middle;\n",
       "    }\n",
       "\n",
       "    .dataframe tbody tr th {\n",
       "        vertical-align: top;\n",
       "    }\n",
       "\n",
       "    .dataframe thead th {\n",
       "        text-align: right;\n",
       "    }\n",
       "</style>\n",
       "<table border=\"1\" class=\"dataframe\">\n",
       "  <thead>\n",
       "    <tr style=\"text-align: right;\">\n",
       "      <th></th>\n",
       "      <th>Edad</th>\n",
       "      <th>Sexo</th>\n",
       "      <th>Perscargo</th>\n",
       "      <th>Estrato</th>\n",
       "      <th>Nivel de estudios</th>\n",
       "      <th>Tipo de contrato</th>\n",
       "      <th>Ingresos</th>\n",
       "      <th>Egresos</th>\n",
       "      <th>Tipo de actividad</th>\n",
       "      <th>Tipo de vivienda</th>\n",
       "      <th>...</th>\n",
       "      <th>Destino</th>\n",
       "      <th>Monto</th>\n",
       "      <th>Plazo</th>\n",
       "      <th>Cuota</th>\n",
       "      <th>Garantia</th>\n",
       "      <th>RespPat</th>\n",
       "      <th>FecIngreso</th>\n",
       "      <th>Pagare</th>\n",
       "      <th>MoraCome</th>\n",
       "      <th>Puntaje</th>\n",
       "    </tr>\n",
       "  </thead>\n",
       "  <tbody>\n",
       "    <tr>\n",
       "      <th>0</th>\n",
       "      <td>22</td>\n",
       "      <td>no</td>\n",
       "      <td>0</td>\n",
       "      <td>2</td>\n",
       "      <td>Técnico</td>\n",
       "      <td>Indefinido</td>\n",
       "      <td>949000</td>\n",
       "      <td>226000</td>\n",
       "      <td>Empleado</td>\n",
       "      <td>Familiar</td>\n",
       "      <td>...</td>\n",
       "      <td>Consumo</td>\n",
       "      <td>1600000</td>\n",
       "      <td>24</td>\n",
       "      <td>40930</td>\n",
       "      <td>Libranza Establecida</td>\n",
       "      <td>Sin Patrimonio</td>\n",
       "      <td>2007-03-29</td>\n",
       "      <td>41707.0</td>\n",
       "      <td>Con Experiencia sin Mora</td>\n",
       "      <td>27.0</td>\n",
       "    </tr>\n",
       "    <tr>\n",
       "      <th>1</th>\n",
       "      <td>57</td>\n",
       "      <td>no</td>\n",
       "      <td>0</td>\n",
       "      <td>4</td>\n",
       "      <td>Bachiller</td>\n",
       "      <td>Ninguno</td>\n",
       "      <td>1806000</td>\n",
       "      <td>1319000</td>\n",
       "      <td>Jubilado</td>\n",
       "      <td>Propia</td>\n",
       "      <td>...</td>\n",
       "      <td>Consumo</td>\n",
       "      <td>5000000</td>\n",
       "      <td>36</td>\n",
       "      <td>213.932</td>\n",
       "      <td>Sin Codeudor</td>\n",
       "      <td>Prop.sin Hipoteca</td>\n",
       "      <td>2001-02-26</td>\n",
       "      <td>NaN</td>\n",
       "      <td>Con Experiencia sin Mora</td>\n",
       "      <td>63.0</td>\n",
       "    </tr>\n",
       "    <tr>\n",
       "      <th>2</th>\n",
       "      <td>21</td>\n",
       "      <td>no</td>\n",
       "      <td>0</td>\n",
       "      <td>2</td>\n",
       "      <td>Bachiller</td>\n",
       "      <td>Fijo</td>\n",
       "      <td>816000</td>\n",
       "      <td>157000</td>\n",
       "      <td>Empleado</td>\n",
       "      <td>Familiar</td>\n",
       "      <td>...</td>\n",
       "      <td>Consumo</td>\n",
       "      <td>6200000</td>\n",
       "      <td>36</td>\n",
       "      <td>247167</td>\n",
       "      <td>Con Codeudor(es)</td>\n",
       "      <td>Sin Patrimonio</td>\n",
       "      <td>2006-10-05</td>\n",
       "      <td>41617.0</td>\n",
       "      <td>Con Experiencia sin Mora</td>\n",
       "      <td>NaN</td>\n",
       "    </tr>\n",
       "  </tbody>\n",
       "</table>\n",
       "<p>3 rows × 30 columns</p>\n",
       "</div>"
      ],
      "text/plain": [
       "   Edad Sexo  Perscargo  Estrato Nivel de estudios Tipo de contrato  Ingresos  \\\n",
       "0    22   no          0        2           Técnico       Indefinido    949000   \n",
       "1    57   no          0        4         Bachiller          Ninguno   1806000   \n",
       "2    21   no          0        2         Bachiller             Fijo    816000   \n",
       "\n",
       "   Egresos Tipo de actividad Tipo de vivienda  ...  Destino    Monto  Plazo  \\\n",
       "0   226000          Empleado         Familiar  ...  Consumo  1600000     24   \n",
       "1  1319000          Jubilado           Propia  ...  Consumo  5000000     36   \n",
       "2   157000          Empleado         Familiar  ...  Consumo  6200000     36   \n",
       "\n",
       "     Cuota              Garantia            RespPat  FecIngreso   Pagare  \\\n",
       "0    40930  Libranza Establecida     Sin Patrimonio  2007-03-29  41707.0   \n",
       "1  213.932          Sin Codeudor  Prop.sin Hipoteca  2001-02-26      NaN   \n",
       "2   247167      Con Codeudor(es)     Sin Patrimonio  2006-10-05  41617.0   \n",
       "\n",
       "                   MoraCome  Puntaje  \n",
       "0  Con Experiencia sin Mora     27.0  \n",
       "1  Con Experiencia sin Mora     63.0  \n",
       "2  Con Experiencia sin Mora      NaN  \n",
       "\n",
       "[3 rows x 30 columns]"
      ]
     },
     "execution_count": 122,
     "metadata": {},
     "output_type": "execute_result"
    }
   ],
   "source": [
    "aprob.head(3)"
   ]
  },
  {
   "cell_type": "markdown",
   "metadata": {},
   "source": [
    "### Obtener nombres de las columnas categoricas"
   ]
  },
  {
   "cell_type": "code",
   "execution_count": 99,
   "metadata": {},
   "outputs": [],
   "source": [
    "def variables_categoricas(lista_base, lista_remover):\n",
    "    categoricas = lista_base\n",
    "    for ii in lista_remover:\n",
    "        categoricas.remove(ii)\n",
    "    return categoricas"
   ]
  },
  {
   "cell_type": "code",
   "execution_count": 105,
   "metadata": {},
   "outputs": [
    {
     "data": {
      "text/plain": [
       "['Sexo',\n",
       " 'Nivel de estudios',\n",
       " 'Tipo de contrato',\n",
       " 'Tipo de actividad',\n",
       " 'Tipo de vivienda',\n",
       " 'Destino',\n",
       " 'Cuota',\n",
       " 'Garantia',\n",
       " 'RespPat',\n",
       " 'MoraCome']"
      ]
     },
     "execution_count": 105,
     "metadata": {},
     "output_type": "execute_result"
    }
   ],
   "source": [
    "var_categoricas = variables_categoricas(list(aprob.columns), list(aprob.describe().columns))\n",
    "var_categoricas.remove('FecIngreso')\n",
    "var_categoricas"
   ]
  },
  {
   "cell_type": "code",
   "execution_count": 106,
   "metadata": {},
   "outputs": [
    {
     "data": {
      "text/html": [
       "<div>\n",
       "<style scoped>\n",
       "    .dataframe tbody tr th:only-of-type {\n",
       "        vertical-align: middle;\n",
       "    }\n",
       "\n",
       "    .dataframe tbody tr th {\n",
       "        vertical-align: top;\n",
       "    }\n",
       "\n",
       "    .dataframe thead th {\n",
       "        text-align: right;\n",
       "    }\n",
       "</style>\n",
       "<table border=\"1\" class=\"dataframe\">\n",
       "  <thead>\n",
       "    <tr style=\"text-align: right;\">\n",
       "      <th></th>\n",
       "      <th>Sexo</th>\n",
       "      <th>Nivel de estudios</th>\n",
       "      <th>Tipo de contrato</th>\n",
       "      <th>Tipo de actividad</th>\n",
       "      <th>Tipo de vivienda</th>\n",
       "      <th>Destino</th>\n",
       "      <th>Cuota</th>\n",
       "      <th>Garantia</th>\n",
       "      <th>RespPat</th>\n",
       "      <th>MoraCome</th>\n",
       "    </tr>\n",
       "  </thead>\n",
       "  <tbody>\n",
       "    <tr>\n",
       "      <th>0</th>\n",
       "      <td>no</td>\n",
       "      <td>Técnico</td>\n",
       "      <td>Indefinido</td>\n",
       "      <td>Empleado</td>\n",
       "      <td>Familiar</td>\n",
       "      <td>Consumo</td>\n",
       "      <td>40930</td>\n",
       "      <td>Libranza Establecida</td>\n",
       "      <td>Sin Patrimonio</td>\n",
       "      <td>Con Experiencia sin Mora</td>\n",
       "    </tr>\n",
       "    <tr>\n",
       "      <th>1</th>\n",
       "      <td>no</td>\n",
       "      <td>Bachiller</td>\n",
       "      <td>Ninguno</td>\n",
       "      <td>Jubilado</td>\n",
       "      <td>Propia</td>\n",
       "      <td>Consumo</td>\n",
       "      <td>213.932</td>\n",
       "      <td>Sin Codeudor</td>\n",
       "      <td>Prop.sin Hipoteca</td>\n",
       "      <td>Con Experiencia sin Mora</td>\n",
       "    </tr>\n",
       "    <tr>\n",
       "      <th>2</th>\n",
       "      <td>no</td>\n",
       "      <td>Bachiller</td>\n",
       "      <td>Fijo</td>\n",
       "      <td>Empleado</td>\n",
       "      <td>Familiar</td>\n",
       "      <td>Consumo</td>\n",
       "      <td>247167</td>\n",
       "      <td>Con Codeudor(es)</td>\n",
       "      <td>Sin Patrimonio</td>\n",
       "      <td>Con Experiencia sin Mora</td>\n",
       "    </tr>\n",
       "    <tr>\n",
       "      <th>3</th>\n",
       "      <td>no</td>\n",
       "      <td>Técnico</td>\n",
       "      <td>Indefinido</td>\n",
       "      <td>Empleado</td>\n",
       "      <td>Familiar</td>\n",
       "      <td>Consumo</td>\n",
       "      <td>123305</td>\n",
       "      <td>Con Codeudor(es)</td>\n",
       "      <td>Sin Patrimonio</td>\n",
       "      <td>Sin experiencia</td>\n",
       "    </tr>\n",
       "    <tr>\n",
       "      <th>4</th>\n",
       "      <td>no</td>\n",
       "      <td>Técnico</td>\n",
       "      <td>Fijo</td>\n",
       "      <td>Empleado</td>\n",
       "      <td>Familiar</td>\n",
       "      <td>Consumo</td>\n",
       "      <td>87477</td>\n",
       "      <td>Con Codeudor(es)</td>\n",
       "      <td>Sin Patrimonio</td>\n",
       "      <td>Con Experiencia sin Mora</td>\n",
       "    </tr>\n",
       "    <tr>\n",
       "      <th>...</th>\n",
       "      <td>...</td>\n",
       "      <td>...</td>\n",
       "      <td>...</td>\n",
       "      <td>...</td>\n",
       "      <td>...</td>\n",
       "      <td>...</td>\n",
       "      <td>...</td>\n",
       "      <td>...</td>\n",
       "      <td>...</td>\n",
       "      <td>...</td>\n",
       "    </tr>\n",
       "    <tr>\n",
       "      <th>193</th>\n",
       "      <td>no</td>\n",
       "      <td>Bachiller</td>\n",
       "      <td>Ninguno</td>\n",
       "      <td>Independiente</td>\n",
       "      <td>Familiar</td>\n",
       "      <td>Reposicion de Activos Fij</td>\n",
       "      <td>147.592</td>\n",
       "      <td>Sin Codeudor</td>\n",
       "      <td>Sin Patrimonio</td>\n",
       "      <td>Mora mayor a 60 Dìas</td>\n",
       "    </tr>\n",
       "    <tr>\n",
       "      <th>194</th>\n",
       "      <td>yes</td>\n",
       "      <td>Bachiller</td>\n",
       "      <td>Ninguno</td>\n",
       "      <td>Independiente</td>\n",
       "      <td>Familiar</td>\n",
       "      <td>Consumo</td>\n",
       "      <td>113025</td>\n",
       "      <td>Con Codeudor(es)</td>\n",
       "      <td>Prop.con Hipoteca</td>\n",
       "      <td>Sin experiencia</td>\n",
       "    </tr>\n",
       "    <tr>\n",
       "      <th>195</th>\n",
       "      <td>yes</td>\n",
       "      <td>Profesional</td>\n",
       "      <td>Fijo</td>\n",
       "      <td>Empleado</td>\n",
       "      <td>Familiar</td>\n",
       "      <td>Consumo</td>\n",
       "      <td>387071</td>\n",
       "      <td>Sin Codeudor</td>\n",
       "      <td>Sin Patrimonio</td>\n",
       "      <td>Con Experiencia sin Mora</td>\n",
       "    </tr>\n",
       "    <tr>\n",
       "      <th>196</th>\n",
       "      <td>yes</td>\n",
       "      <td>Profesional</td>\n",
       "      <td>Indefinido</td>\n",
       "      <td>Empleado</td>\n",
       "      <td>Propia</td>\n",
       "      <td>Consumo</td>\n",
       "      <td>109736</td>\n",
       "      <td>Libranza Establecida</td>\n",
       "      <td>Sin Patrimonio</td>\n",
       "      <td>Con Experiencia sin Mora</td>\n",
       "    </tr>\n",
       "    <tr>\n",
       "      <th>197</th>\n",
       "      <td>yes</td>\n",
       "      <td>Bachiller</td>\n",
       "      <td>Indefinido</td>\n",
       "      <td>Empleado</td>\n",
       "      <td>Familiar</td>\n",
       "      <td>Consumo</td>\n",
       "      <td>285777</td>\n",
       "      <td>Sin Codeudor</td>\n",
       "      <td>Sin Patrimonio</td>\n",
       "      <td>Con Experiencia sin Mora</td>\n",
       "    </tr>\n",
       "  </tbody>\n",
       "</table>\n",
       "<p>198 rows × 10 columns</p>\n",
       "</div>"
      ],
      "text/plain": [
       "    Sexo Nivel de estudios Tipo de contrato Tipo de actividad  \\\n",
       "0     no           Técnico       Indefinido          Empleado   \n",
       "1     no         Bachiller          Ninguno          Jubilado   \n",
       "2     no         Bachiller             Fijo          Empleado   \n",
       "3     no           Técnico       Indefinido          Empleado   \n",
       "4     no           Técnico             Fijo          Empleado   \n",
       "..   ...               ...              ...               ...   \n",
       "193   no         Bachiller          Ninguno     Independiente   \n",
       "194  yes         Bachiller          Ninguno     Independiente   \n",
       "195  yes       Profesional             Fijo          Empleado   \n",
       "196  yes       Profesional       Indefinido          Empleado   \n",
       "197  yes         Bachiller       Indefinido          Empleado   \n",
       "\n",
       "    Tipo de vivienda                    Destino    Cuota  \\\n",
       "0           Familiar                    Consumo    40930   \n",
       "1             Propia                    Consumo  213.932   \n",
       "2           Familiar                    Consumo   247167   \n",
       "3           Familiar                    Consumo   123305   \n",
       "4           Familiar                    Consumo    87477   \n",
       "..               ...                        ...      ...   \n",
       "193         Familiar  Reposicion de Activos Fij  147.592   \n",
       "194         Familiar                    Consumo   113025   \n",
       "195         Familiar                    Consumo   387071   \n",
       "196           Propia                    Consumo   109736   \n",
       "197         Familiar                    Consumo   285777   \n",
       "\n",
       "                 Garantia            RespPat                  MoraCome  \n",
       "0    Libranza Establecida     Sin Patrimonio  Con Experiencia sin Mora  \n",
       "1            Sin Codeudor  Prop.sin Hipoteca  Con Experiencia sin Mora  \n",
       "2        Con Codeudor(es)     Sin Patrimonio  Con Experiencia sin Mora  \n",
       "3        Con Codeudor(es)     Sin Patrimonio           Sin experiencia  \n",
       "4        Con Codeudor(es)     Sin Patrimonio  Con Experiencia sin Mora  \n",
       "..                    ...                ...                       ...  \n",
       "193          Sin Codeudor     Sin Patrimonio      Mora mayor a 60 Dìas  \n",
       "194      Con Codeudor(es)  Prop.con Hipoteca           Sin experiencia  \n",
       "195          Sin Codeudor     Sin Patrimonio  Con Experiencia sin Mora  \n",
       "196  Libranza Establecida     Sin Patrimonio  Con Experiencia sin Mora  \n",
       "197          Sin Codeudor     Sin Patrimonio  Con Experiencia sin Mora  \n",
       "\n",
       "[198 rows x 10 columns]"
      ]
     },
     "execution_count": 106,
     "metadata": {},
     "output_type": "execute_result"
    }
   ],
   "source": [
    "aprob[var_categoricas]"
   ]
  },
  {
   "cell_type": "markdown",
   "metadata": {},
   "source": [
    "# Procesar variables categoricas"
   ]
  },
  {
   "cell_type": "markdown",
   "metadata": {},
   "source": [
    "https://scikit-learn.org/stable/modules/generated/sklearn.preprocessing.LabelEncoder.html"
   ]
  },
  {
   "cell_type": "code",
   "execution_count": 109,
   "metadata": {},
   "outputs": [],
   "source": [
    "le = preprocessing.LabelEncoder()"
   ]
  },
  {
   "cell_type": "code",
   "execution_count": 111,
   "metadata": {},
   "outputs": [
    {
     "data": {
      "text/plain": [
       "['Técnico',\n",
       " 'Bachiller',\n",
       " 'Profesional',\n",
       " 'Especializacion',\n",
       " 'Tecnólogo',\n",
       " 'Primaria',\n",
       " 'Ninguno']"
      ]
     },
     "execution_count": 111,
     "metadata": {},
     "output_type": "execute_result"
    }
   ],
   "source": [
    "list(aprob['Nivel de estudios'].unique())"
   ]
  },
  {
   "cell_type": "code",
   "execution_count": 112,
   "metadata": {},
   "outputs": [
    {
     "data": {
      "text/plain": [
       "LabelEncoder()"
      ]
     },
     "execution_count": 112,
     "metadata": {},
     "output_type": "execute_result"
    }
   ],
   "source": [
    "le.fit(list(aprob['Nivel de estudios'].unique()))"
   ]
  },
  {
   "cell_type": "code",
   "execution_count": 113,
   "metadata": {},
   "outputs": [
    {
     "data": {
      "text/plain": [
       "array(['Bachiller', 'Especializacion', 'Ninguno', 'Primaria',\n",
       "       'Profesional', 'Tecnólogo', 'Técnico'], dtype='<U15')"
      ]
     },
     "execution_count": 113,
     "metadata": {},
     "output_type": "execute_result"
    }
   ],
   "source": [
    "le.classes_"
   ]
  },
  {
   "cell_type": "code",
   "execution_count": 116,
   "metadata": {},
   "outputs": [
    {
     "data": {
      "text/plain": [
       "array([0, 1, 2, 3, 4, 5, 6])"
      ]
     },
     "execution_count": 116,
     "metadata": {},
     "output_type": "execute_result"
    }
   ],
   "source": [
    "le.transform(list(le.classes_))"
   ]
  },
  {
   "cell_type": "code",
   "execution_count": null,
   "metadata": {},
   "outputs": [],
   "source": []
  }
 ],
 "metadata": {
  "kernelspec": {
   "display_name": "Python 3",
   "language": "python",
   "name": "python3"
  },
  "language_info": {
   "codemirror_mode": {
    "name": "ipython",
    "version": 3
   },
   "file_extension": ".py",
   "mimetype": "text/x-python",
   "name": "python",
   "nbconvert_exporter": "python",
   "pygments_lexer": "ipython3",
   "version": "3.8.2"
  }
 },
 "nbformat": 4,
 "nbformat_minor": 4
}
